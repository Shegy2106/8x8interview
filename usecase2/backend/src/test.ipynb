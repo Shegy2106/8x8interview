{
 "cells": [
  {
   "cell_type": "code",
   "execution_count": 1,
   "metadata": {},
   "outputs": [
    {
     "name": "stdout",
     "output_type": "stream",
     "text": [
      "Response: {'spreadsheet_range': [['Number', 'Message', 'Handling', 'Language'], ['14086052972', \"Alban, thanks for calling. I can't take your call right now. I'm in a meeting. Call you back.\", 'Block', 'en-UK'], ['14155950747', 'Ramana, do you know what time it is in London now?  Will call you later', 'Block', 'en-UK'], ['2375', 'Hello, this is your personal message.', 'Voicemail', 'en-US'], ['14088722546', 'Hello, this is your personal message.', 'Voicemail', 'en-UK'], ['1405', 'Ramana - Really busy with Demos - Will call you once done', 'Block', 'en-US'], ['2972', 'Hello, this is your personal message.', 'Block', 'en-US'], ['18177097517', 'Hello Brian - How are sessions today?', 'Block', 'en-UK'], ['14152970193', 'Hi Alex, hope you enjoyed the conference', 'Block', 'en-UK'], ['19259844777', 'Hi Matt - Why are you calling me - Wrong Bot!', 'Block', 'en-UK'], ['16504602062', 'Hi Slobo, hope you enjoyed the conference', 'Voicemail', 'en-UK'], ['13175727383', 'Good morning - How is weather in San Jose?', 'Block', 'en-UK'], ['18609833686', 'How is weather in Florida?  Did you catch-up with your messages?', 'Block', 'en-UK'], ['16699004365', '8x8 rocks!', 'Voicemail', 'en-UK'], ['12487786625', 'Hi Kebede Go Blue!! Welcome to California', 'Block', 'en-UK'], ['13035963335', '8x8 rocks! Test now!', 'Voicemail', 'en-UK'], ['19173285783', 'Hi Russ, thanks for calling.', 'Block', 'en-UK'], ['1009', \"It's working!\", 'Voicemail', 'en-US'], ['16502181037', 'Hello, Darren!', 'Voicemail', 'en-US'], ['19419148320', 'Hi Philippe. Welcome to 8 by 8 Sales Kickoff at Hayes Mansion. Seize the OPPORTUNITY!', 'Voicemail', 'en-US']]}\n"
     ]
    }
   ],
   "source": [
    "\n",
    "import requests\n",
    "\n",
    "\n",
    "def fetch_spreadsheet_data(spreadsheet_id, data_array):\n",
    "    url = \"http://localhost:8000/post_spreadsheet/\"\n",
    "    payload = {\n",
    "        \"spreadsheet_id\": spreadsheet_id,\n",
    "        \"spreadsheet_range\": data_array\n",
    "    }\n",
    "\n",
    "    try:\n",
    "        response = requests.post(url, json=payload)\n",
    "        response.raise_for_status()  # Check for any errors in the response\n",
    "\n",
    "        return response.json()\n",
    "    except requests.exceptions.RequestException as e:\n",
    "        # Handle any request-related errors here\n",
    "        print(f\"Error: {e}\")\n",
    "        return None\n",
    "\n",
    "# Example usage:\n",
    "spreadsheet_id = \"1m3vhA2A2ACOfcKJnfjGPybyIlQwYPxIyMf0F0gJjgHQ\"\n",
    "data_array = 'Personal Call Handling'\n",
    "\n",
    "result = fetch_spreadsheet_data(spreadsheet_id, data_array)\n",
    "if result:\n",
    "    print(\"Response:\", result)"
   ]
  }
 ],
 "metadata": {
  "kernelspec": {
   "display_name": "Python 3",
   "language": "python",
   "name": "python3"
  },
  "language_info": {
   "codemirror_mode": {
    "name": "ipython",
    "version": 3
   },
   "file_extension": ".py",
   "mimetype": "text/x-python",
   "name": "python",
   "nbconvert_exporter": "python",
   "pygments_lexer": "ipython3",
   "version": "3.11.4"
  },
  "orig_nbformat": 4
 },
 "nbformat": 4,
 "nbformat_minor": 2
}
