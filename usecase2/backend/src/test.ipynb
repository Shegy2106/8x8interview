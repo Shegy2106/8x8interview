{
 "cells": [
  {
   "cell_type": "code",
   "execution_count": 12,
   "metadata": {},
   "outputs": [
    {
     "name": "stdout",
     "output_type": "stream",
     "text": [
      "Response: {'spreadsheet_data': {'Personal Call Handling': [{'Number': '14086052972', 'Message': \"Alban, thanks for calling. I can't take your call right now. I'm in a meeting. Call you back.\", 'Handling': 'Block', 'Language': 'en-UK'}, {'Number': '14155950747', 'Message': 'Ramana, do you know what time it is in London now?  Will call you later', 'Handling': 'Block', 'Language': 'en-UK'}, {'Number': '2375', 'Message': 'Hello, this is your personal message.', 'Handling': 'Voicemail', 'Language': 'en-US'}, {'Number': '14088722546', 'Message': 'Hello, this is your personal message.', 'Handling': 'Voicemail', 'Language': 'en-UK'}, {'Number': '1405', 'Message': 'Ramana - Really busy with Demos - Will call you once done', 'Handling': 'Block', 'Language': 'en-US'}, {'Number': '2972', 'Message': 'Hello, this is your personal message.', 'Handling': 'Block', 'Language': 'en-US'}, {'Number': '18177097517', 'Message': 'Hello Brian - How are sessions today?', 'Handling': 'Block', 'Language': 'en-UK'}, {'Number': '14152970193', 'Message': 'Hi Alex, hope you enjoyed the conference', 'Handling': 'Block', 'Language': 'en-UK'}, {'Number': '19259844777', 'Message': 'Hi Matt - Why are you calling me - Wrong Bot!', 'Handling': 'Block', 'Language': 'en-UK'}, {'Number': '16504602062', 'Message': 'Hi Slobo, hope you enjoyed the conference', 'Handling': 'Voicemail', 'Language': 'en-UK'}, {'Number': '13175727383', 'Message': 'Good morning - How is weather in San Jose?', 'Handling': 'Block', 'Language': 'en-UK'}, {'Number': '18609833686', 'Message': 'How is weather in Florida?  Did you catch-up with your messages?', 'Handling': 'Block', 'Language': 'en-UK'}, {'Number': '16699004365', 'Message': '8x8 rocks!', 'Handling': 'Voicemail', 'Language': 'en-UK'}, {'Number': '12487786625', 'Message': 'Hi Kebede Go Blue!! Welcome to California', 'Handling': 'Block', 'Language': 'en-UK'}, {'Number': '13035963335', 'Message': '8x8 rocks! Test now!', 'Handling': 'Voicemail', 'Language': 'en-UK'}, {'Number': '19173285783', 'Message': 'Hi Russ, thanks for calling.', 'Handling': 'Block', 'Language': 'en-UK'}, {'Number': '1009', 'Message': \"It's working!\", 'Handling': 'Voicemail', 'Language': 'en-US'}, {'Number': '16502181037', 'Message': 'Hello, Darren!', 'Handling': 'Voicemail', 'Language': 'en-US'}, {'Number': '19419148320', 'Message': 'Hi Philippe. Welcome to 8 by 8 Sales Kickoff at Hayes Mansion. Seize the OPPORTUNITY!', 'Handling': 'Voicemail', 'Language': 'en-US'}], 'DNIS': [{'DNIS': '16504602089', 'CallerID': 'Plumbing Line'}, {'DNIS': '16287772022', 'CallerID': 'Electrical Line'}, {'DNIS': '16287772031', 'CallerID': 'Test NOW'}, {'DNIS': '16699004365', 'CallerID': '8x8 NOW'}, {'DNIS': '14153126869', 'CallerID': '8x8 NOW'}]}}\n"
     ]
    }
   ],
   "source": [
    "\n",
    "#%pip install requests\n",
    "import requests\n",
    "\n",
    "\n",
    "def fetch_spreadsheet_data(spreadsheet_id, data_array):\n",
    "    url = \"http://localhost:8000/post_spreadsheet/\"\n",
    "    payload = {\n",
    "        \"spreadsheet_id\": spreadsheet_id,\n",
    "        \"spreadsheet_range\": data_array\n",
    "    }\n",
    "\n",
    "    try:\n",
    "        response = requests.post(url, json=payload)\n",
    "        response.raise_for_status()\n",
    "\n",
    "        return response.json()\n",
    "    except requests.exceptions.RequestException as e:\n",
    "        print(f\"Error: {e}\")\n",
    "        return None\n",
    "\n",
    "spreadsheet_id = \"1m3vhA2A2ACOfcKJnfjGPybyIlQwYPxIyMf0F0gJjgHQ\"\n",
    "data_array = ['Personal Call Handling', 'DNIS']\n",
    "\n",
    "result = fetch_spreadsheet_data(spreadsheet_id, data_array)\n",
    "if result:\n",
    "    print(\"Response:\", result)"
   ]
  }
 ],
 "metadata": {
  "kernelspec": {
   "display_name": "Python 3",
   "language": "python",
   "name": "python3"
  },
  "language_info": {
   "codemirror_mode": {
    "name": "ipython",
    "version": 3
   },
   "file_extension": ".py",
   "mimetype": "text/x-python",
   "name": "python",
   "nbconvert_exporter": "python",
   "pygments_lexer": "ipython3",
   "version": "3.11.4"
  },
  "orig_nbformat": 4
 },
 "nbformat": 4,
 "nbformat_minor": 2
}
